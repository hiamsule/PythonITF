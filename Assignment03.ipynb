{
  "cells": [
    {
      "cell_type": "code",
      "execution_count": 2,
      "metadata": {
        "id": "U5kfJKPkML3P",
        "outputId": "48a26dfd-2bf5-4338-b1ff-296541b3ccba"
      },
      "outputs": [
        {
          "name": "stdout",
          "output_type": "stream",
          "text": [
            "[0, 1, 4, 4, 5, 9, 30, 30, 30, 30]\n",
            "4\n",
            "the most freq. number is 30 and it was 4 times repeated.\n"
          ]
        }
      ],
      "source": [
        "\"\"\"\n",
        "(1): Find out the most frequent number and its frequency.\n",
        "\"\"\"\n",
        "nums = [1,30,4,5,4,30,0,9,30,30]\n",
        "nums.sort()\n",
        "print(nums)\n",
        "print(nums.count(30))\n",
        "print(f\"the most freq. number is {30} and it was {4} times repeated.\")"
      ]
    },
    {
      "cell_type": "code",
      "execution_count": null,
      "metadata": {
        "id": "Q0FlsdHgML3X"
      },
      "outputs": [],
      "source": [
        "\"\"\"(2)- Find out if the given word is \"comfortable words\" in relation to the ten-finger keyboard use.\n",
        "\n",
        "A comfortable word is a word which you can type always alternating the hand you type with \n",
        "(assuming you type using a Q-keyboard and use of the ten-fingers standard).\n",
        "\n",
        "The word will always be a string consisting of only letters from a to z.\n",
        "\n",
        "Write a program to returns True if it's a comfortable word or False otherwise.\"\"\"\n",
        "\n",
        "\"\"\"\n",
        "Given  word\tDesired Output (explanation)\n",
        "tester\t  -->   False (uses only left-hand fingers)*\n",
        "polly\t  -->   False (uses only right-hand fingers)*\n",
        "clarusway -->\tTrue (uses both hand fingers)*\n",
        "\"\"\""
      ]
    },
    {
      "cell_type": "code",
      "execution_count": null,
      "metadata": {
        "id": "irQgJFZoML3Y"
      },
      "outputs": [],
      "source": []
    },
    {
      "cell_type": "markdown",
      "metadata": {
        "id": "T-XmPnO0MPQ8"
      },
      "source": [
        "(3) - How to print an entered name 5 times in a row (with a single line of code) ?"
      ]
    },
    {
      "cell_type": "code",
      "execution_count": 7,
      "metadata": {
        "colab": {
          "base_uri": "https://localhost:8080/"
        },
        "id": "Pd3Cpu9cMP7c",
        "outputId": "e607528a-4803-4be4-d12a-c3c07b4a3d35"
      },
      "outputs": [
        {
          "name": "stdout",
          "output_type": "stream",
          "text": [
            "girilen isim ali\n",
            "ali\n",
            "ali\n",
            "ali\n",
            "ali\n",
            "ali\n"
          ]
        }
      ],
      "source": [
        "x=input(\"Bir isim giriniz\")\n",
        "print(f\"girilen isim {x}\")\n",
        "for i in range(5):\n",
        "    print(x)"
      ]
    },
    {
      "cell_type": "markdown",
      "metadata": {
        "id": "ieRTz7i1HRp9"
      },
      "source": [
        "(4).The provided code stub reads and integer, n , from console. For all non-negative integers , print i**2\n",
        "\n",
        "Example\n",
        "if n=4;  Print the square of each number on a separate line.\n",
        "\n",
        "0\n",
        "\n",
        "1\n",
        "\n",
        "4\n",
        "\n",
        "9"
      ]
    },
    {
      "cell_type": "code",
      "execution_count": 8,
      "metadata": {
        "colab": {
          "base_uri": "https://localhost:8080/"
        },
        "id": "IT8w38QRmZJJ",
        "outputId": "7c5503e2-9ce5-4d3d-c8ec-323ad03680a9"
      },
      "outputs": [
        {
          "name": "stdout",
          "output_type": "stream",
          "text": [
            "n:5\n",
            "0\n",
            "1\n",
            "4\n",
            "9\n",
            "16\n"
          ]
        }
      ],
      "source": [
        "n = int(input(\"n..: \"))\n",
        "print(f\"n:{n}\")\n",
        "if n>0:\n",
        "    for i in range(n):\n",
        "        print(i**2)"
      ]
    },
    {
      "cell_type": "markdown",
      "metadata": {
        "id": "3LHn3sMKuJjl"
      },
      "source": [
        "(5). Print the prime numbers which are between 1 to entered limit number (n).\n",
        "\n",
        "You can use a nested for loop.\n",
        "Collect all these numbers into a list"
      ]
    },
    {
      "cell_type": "code",
      "execution_count": 26,
      "metadata": {},
      "outputs": [
        {
          "name": "stdout",
          "output_type": "stream",
          "text": [
            "5,7,11,13,17,19,23,25,29,31,35,37,41,43,47,49,53,55,59,61,65,67,71,73,77,79,83,85,89,91,95,97,"
          ]
        }
      ],
      "source": [
        "n=100\n",
        "for i in range(n+1):\n",
        "    if i>=2:\n",
        "        if i%i==0 and i%2!=0 and i%3!=0:\n",
        "            print(i,end=\",\")\n",
        "          \n",
        "    "
      ]
    },
    {
      "cell_type": "code",
      "execution_count": null,
      "metadata": {
        "id": "MqynEvYtt4Tb"
      },
      "outputs": [],
      "source": [
        "# TODO\n",
        "#The desired output for n=100 :\n",
        "\n",
        "[2, 3, 5, 7, 11, 13, 17, 19, 23, 29, 31, 37, 41, 43, 47, 53, 59,\n",
        "61, 67, 71, 73, 79, 83, 89, 97]"
      ]
    },
    {
      "cell_type": "markdown",
      "metadata": {
        "id": "4kjXpDKsuPwU"
      },
      "source": [
        "(6). Print the FizzBuzz numbers.\n",
        "\n",
        "FizzBuzz is a famous code challenge used in interviews to test basic programming skills. It's time to write your own implementation.\n",
        "Print numbers from 1 to 100 inclusively following these instructions:\n",
        "\n",
        "*   if a number is multiple of 3, print \"Fizz\" instead of this number,\n",
        "\n",
        "\n",
        "*   if a number is multiple of 5, print \"Buzz\" instead of this number,\n",
        "\n",
        "\n",
        "*   for numbers that are multiples of both 3 and 5, print \"FizzBuzz\",\n",
        "\n",
        "\n",
        "*  print the rest of the numbers unchanged.\n",
        "\n",
        "\n",
        "*   Output each value on a separate line."
      ]
    },
    {
      "cell_type": "code",
      "execution_count": 36,
      "metadata": {},
      "outputs": [
        {
          "name": "stdout",
          "output_type": "stream",
          "text": [
            "1\n",
            "2\n",
            "Fizz\n",
            "4\n",
            "Buzz\n",
            "Fizz\n",
            "7\n",
            "8\n",
            "Fizz\n",
            "Buzz\n",
            "11\n",
            "Fizz\n",
            "13\n",
            "14\n",
            "FizzBuzz\n",
            "16\n",
            "17\n",
            "Fizz\n",
            "19\n",
            "Buzz\n",
            "Fizz\n",
            "22\n",
            "23\n",
            "Fizz\n",
            "Buzz\n",
            "26\n",
            "Fizz\n",
            "28\n",
            "29\n",
            "FizzBuzz\n",
            "31\n",
            "32\n",
            "Fizz\n",
            "34\n",
            "Buzz\n",
            "Fizz\n",
            "37\n",
            "38\n",
            "Fizz\n",
            "Buzz\n",
            "41\n",
            "Fizz\n",
            "43\n",
            "44\n",
            "FizzBuzz\n",
            "46\n",
            "47\n",
            "Fizz\n",
            "49\n",
            "Buzz\n",
            "Fizz\n",
            "52\n",
            "53\n",
            "Fizz\n",
            "Buzz\n",
            "56\n",
            "Fizz\n",
            "58\n",
            "59\n",
            "FizzBuzz\n",
            "61\n",
            "62\n",
            "Fizz\n",
            "64\n",
            "Buzz\n",
            "Fizz\n",
            "67\n",
            "68\n",
            "Fizz\n",
            "Buzz\n",
            "71\n",
            "Fizz\n",
            "73\n",
            "74\n",
            "FizzBuzz\n",
            "76\n",
            "77\n",
            "Fizz\n",
            "79\n",
            "Buzz\n",
            "Fizz\n",
            "82\n",
            "83\n",
            "Fizz\n",
            "Buzz\n",
            "86\n",
            "Fizz\n",
            "88\n",
            "89\n",
            "FizzBuzz\n",
            "91\n",
            "92\n",
            "Fizz\n",
            "94\n",
            "Buzz\n",
            "Fizz\n",
            "97\n",
            "98\n",
            "Fizz\n",
            "Buzz\n"
          ]
        }
      ],
      "source": [
        "for i in range(1,101):\n",
        "    if i%3==0 and i%5==0:\n",
        "        print(\"FizzBuzz\")\n",
        "    elif i%5==0:\n",
        "        print(\"Buzz\")\n",
        "    elif i%3==0: \n",
        "        print(\"Fizz\")\n",
        "    else:\n",
        "        print(i)\n",
        "    \n",
        "    "
      ]
    },
    {
      "cell_type": "code",
      "execution_count": null,
      "metadata": {
        "id": "63fIJYV8vGLm"
      },
      "outputs": [],
      "source": [
        "# TODO"
      ]
    },
    {
      "cell_type": "markdown",
      "metadata": {
        "id": "dbNpt7asvK72"
      },
      "source": [
        "(7). Count the number of each letter in a sentence.\n",
        "The department you work for undertook a project construction that makes word / text analysis. You are asked to calculate the number of letters or any chars in the sentences entered under this project.\n",
        "Write a Python program that;\n",
        "\n",
        "*   takes a sentence from the user,\n",
        "*   counts the number of each letter/chars of the sentence,\n",
        "\n",
        "*   collects the letters/chars as a key and the counted numbers as a value in a dictionary.\n",
        "\n",
        "\n"
      ]
    },
    {
      "cell_type": "code",
      "execution_count": 1,
      "metadata": {},
      "outputs": [
        {
          "name": "stdout",
          "output_type": "stream",
          "text": [
            "b:1,m:1,y:1,e:2,z:1, :1,i:1,g:1,r:1,u:1,n:1,o:1,"
          ]
        }
      ],
      "source": [
        "x=input(\"Bir cümle yaziniz\")\n",
        "y=list(x)\n",
        "m=set(x)\n",
        "for i in m:\n",
        "    print(f\"{i}:{y.count(i)}\",end=\",\")\n"
      ]
    },
    {
      "cell_type": "code",
      "execution_count": null,
      "metadata": {
        "id": "GGml7WmQLgwC"
      },
      "outputs": [],
      "source": [
        "# Sample inputs : hippo runs to us!\t\n",
        "# Outputs\n",
        "{'s': 2, 'r': 1, 't': 1, 'h': 1, 'n': 1, \n",
        "'i': 1, 'u': 2, 'o': 2, 'p': 2, ' ': 3, '!': 1}\n"
      ]
    },
    {
      "cell_type": "markdown",
      "metadata": {
        "id": "Fjhi9aCWPL3k"
      },
      "source": [
        "(8). To sum the amount of even / odd numbers in a list.\n",
        "\n",
        "*   Write a code that counts odd and even numbers list.\n",
        "*   print the result such as:\n",
        "\n",
        "\n",
        "```\n",
        "# entered n : 7\n",
        "# random list with n elements (1-100) \n",
        "= [11,2,24,61,48,33,45]\n",
        "# output: \n",
        "       the number of even numbers : 3\n",
        "       the numbers of odd numbers : 4\n",
        "```\n",
        "\n"
      ]
    },
    {
      "cell_type": "code",
      "execution_count": 9,
      "metadata": {},
      "outputs": [
        {
          "name": "stdout",
          "output_type": "stream",
          "text": [
            "sayilar: [23, 23, 11, 29, 98, 22, 82, 46]\n",
            "tek sayilar 4\n",
            "cift sayilar 4\n"
          ]
        }
      ],
      "source": [
        "import random\n",
        "n=int(input(\"n sayisini giriniz\"))\n",
        "num_tek=[]\n",
        "num_cift=[]\n",
        "for i in range(n):\n",
        "    x=random.randrange(1,100)\n",
        "    if x%2==0:\n",
        "        num_cift.append(x)\n",
        "    else:\n",
        "        num_tek.append(x)\n",
        "print(f\"sayilar: {num_tek+num_cift}\")\n",
        "print(\"tek sayilar\",len(num_tek))\n",
        "print(\"cift sayilar\",len(num_cift))"
      ]
    },
    {
      "cell_type": "markdown",
      "metadata": {
        "id": "D6iAtm6MQhiM"
      },
      "source": [
        "(9). **Fibonacci series:**\n",
        "Create a list consisting of Fibonacci numbers from 1 to 100 using control flow statements.\n",
        "\n",
        "The desired output is like :\n",
        "\n",
        "fibonacci →  [1, 1, 2, 3, 5, 8, 13, 21, 34, 55, 89]"
      ]
    },
    {
      "cell_type": "code",
      "execution_count": 43,
      "metadata": {},
      "outputs": [
        {
          "name": "stdout",
          "output_type": "stream",
          "text": [
            "1\n",
            "2\n",
            "4\n",
            "8\n",
            "16\n",
            "32\n",
            "64\n"
          ]
        }
      ],
      "source": [
        "x=1\n",
        "while x<=100:\n",
        "    print(x)\n",
        "    x+=x"
      ]
    },
    {
      "cell_type": "code",
      "execution_count": null,
      "metadata": {
        "id": "BC8C6PQIRjmO"
      },
      "outputs": [],
      "source": [
        "# TODO"
      ]
    },
    {
      "cell_type": "markdown",
      "metadata": {
        "id": "PBeELzybRm-Z"
      },
      "source": [
        "**(10)** Find out if a given year is a \"leap\" year.\n",
        "\n",
        "In the Gregorian calendar, three criteria must be taken into account to identify leap years:\n",
        "\n",
        "*  The year must be evenly divisible by 4;\n",
        "*  If the year can also be evenly divided by 100, it is not a leap year; unless...\n",
        "*   The year is also evenly divisible by 400. Then it is a leap year.\n",
        "\n",
        "According to these rules, the years 2000 and 2400 are leap years, while 1800, 1900, 2100, 2200, 2300, and 2500 are not the leap years.\n",
        "\n",
        "\n",
        "Write a Python program that prints such as;\n",
        "\n",
        "```\n",
        "# \"2020 is a leap year\" if the given year by the user is a leap year, or \"2019 is not a leap year\" otherwise.\n",
        "```"
      ]
    },
    {
      "cell_type": "code",
      "execution_count": null,
      "metadata": {},
      "outputs": [],
      "source": []
    },
    {
      "cell_type": "code",
      "execution_count": null,
      "metadata": {
        "id": "PMPeMbzYTlvM"
      },
      "outputs": [],
      "source": [
        "# TODO"
      ]
    },
    {
      "cell_type": "markdown",
      "metadata": {
        "id": "onU6AFR-UkdS"
      },
      "source": [
        "**(11).** Given the following three list, how would you create a new list that matches the desired output\n",
        "printed below in Python?\n",
        "\n",
        "```\n",
        "fruits = ['Apples', 'Oranges', 'Bananas'] \n",
        "quantities = [5, 3, 4] \n",
        "prices = [1.50, 2.25, 0.89]\n",
        "```\n",
        "# Desired output \n",
        "```\n",
        "[('Apples', 5, 1.50), \n",
        "('Oranges', 3, 2.25), \n",
        "('Bananas', 4, 0.89)]\n",
        "```\n",
        "\n"
      ]
    },
    {
      "cell_type": "code",
      "execution_count": 52,
      "metadata": {},
      "outputs": [
        {
          "name": "stdout",
          "output_type": "stream",
          "text": [
            "Apples 5 1.5\n",
            "Oranges 3 2.25\n",
            "Bananas 4 0.89\n"
          ]
        }
      ],
      "source": [
        "fruits = ['Apples', 'Oranges', 'Bananas'] \n",
        "quantities = [5, 3, 4] \n",
        "prices = [1.50, 2.25, 0.89]\n",
        "for x,y,z in zip(fruits,quantities,prices):\n",
        "    print(x,y,z)"
      ]
    },
    {
      "cell_type": "markdown",
      "metadata": {
        "id": "FfLslKg5U7NC"
      },
      "source": [
        "**(12)**.How to delete item in dictionary by a given/entered value? (Sözlük yapısında değeri(value) dışarıdan girilen bir item'ı nasıl silebiliriz?)"
      ]
    },
    {
      "cell_type": "code",
      "execution_count": 1,
      "metadata": {
        "colab": {
          "base_uri": "https://localhost:8080/"
        },
        "id": "JRry6oXiW192",
        "outputId": "889209e0-969c-4661-cecf-d0307a3cc5f6"
      },
      "outputs": [
        {
          "name": "stdout",
          "output_type": "stream",
          "text": [
            "silmek istediğiniz değeri giriniz..:300\n",
            "desired output..: \n",
            "{'foo': 100, 'bar': 200, 'kar': 400}\n"
          ]
        }
      ],
      "source": [
        "d = {'foo': 100, 'bar': 200, 'baz': 300, 'kar':400, 'var':500}\n",
        "\n",
        "# TODO"
      ]
    },
    {
      "cell_type": "code",
      "execution_count": 14,
      "metadata": {},
      "outputs": [
        {
          "ename": "TypeError",
          "evalue": "'NoneType' object does not support item deletion",
          "output_type": "error",
          "traceback": [
            "\u001b[1;31m---------------------------------------------------------------------------\u001b[0m",
            "\u001b[1;31mTypeError\u001b[0m                                 Traceback (most recent call last)",
            "Cell \u001b[1;32mIn[14], line 4\u001b[0m\n\u001b[0;32m      2\u001b[0m k\u001b[39m=\u001b[39m\u001b[39mlist\u001b[39m(d\u001b[39m.\u001b[39mitems())\u001b[39m.\u001b[39mreverse()\n\u001b[0;32m      3\u001b[0m a\u001b[39m=\u001b[39m\u001b[39meval\u001b[39m(\u001b[39minput\u001b[39m(\u001b[39m\"\u001b[39m\u001b[39mSilmek istediginiz value\u001b[39m\u001b[39m'\u001b[39m\u001b[39myu giriniz\u001b[39m\u001b[39m\"\u001b[39m))\n\u001b[1;32m----> 4\u001b[0m \u001b[39mdel\u001b[39;00m k[a]\n\u001b[0;32m      5\u001b[0m \u001b[39mprint\u001b[39m(k)\n",
            "\u001b[1;31mTypeError\u001b[0m: 'NoneType' object does not support item deletion"
          ]
        }
      ],
      "source": [
        "d = {'foo': 100, 'bar': 200, 'baz': 300, 'kar':400, 'var':500}\n",
        "k=list(d.items()).reverse()\n",
        "a=eval(input(\"Silmek istediginiz value'yu giriniz\"))\n",
        "del k[a]\n",
        "print(k)"
      ]
    },
    {
      "cell_type": "markdown",
      "metadata": {
        "id": "dguUfTV5YnJu"
      },
      "source": [
        "**(13).** How to delete special characters (punctuations) in a string? (Bir string içerisindeki özel karakterler(punctations) nasıl silinir?)"
      ]
    },
    {
      "cell_type": "code",
      "execution_count": 14,
      "metadata": {
        "colab": {
          "base_uri": "https://localhost:8080/"
        },
        "id": "wnV_KP6OXLj2",
        "outputId": "e70de7df-8cb1-4712-ecde-5b76682c72c5"
      },
      "outputs": [
        {
          "name": "stdout",
          "output_type": "stream",
          "text": [
            "desired output..:\n",
            "Python101 dersi kolayzor mu\n"
          ]
        }
      ],
      "source": [
        "my_str = \"Python-101 dersi! kolay/zor mu?\"\n",
        "#TODO"
      ]
    },
    {
      "cell_type": "code",
      "execution_count": 22,
      "metadata": {},
      "outputs": [
        {
          "name": "stdout",
          "output_type": "stream",
          "text": [
            "Python101 dersi kolayzor mu\n"
          ]
        }
      ],
      "source": [
        "my_str = \"Python-101 dersi! kolay/zor mu?\"\n",
        "k=list(my_str)\n",
        "k.remove(\"-\")\n",
        "k.remove(\"!\")\n",
        "k.remove(\"/\")\n",
        "k.remove(\"?\")\n",
        "m=\"\".join(k)\n",
        "print(m)"
      ]
    },
    {
      "cell_type": "markdown",
      "metadata": {
        "id": "4WxiEaVscMAR"
      },
      "source": [
        "**(14).** Write a program that does multiplication without using the multiplication operator(not use *)."
      ]
    },
    {
      "cell_type": "code",
      "execution_count": null,
      "metadata": {
        "id": "3RIKYAmncM4A"
      },
      "outputs": [],
      "source": [
        "# Çarpma operatörünü kullanmadan çarpma (a*b) işlemi yapan program...\n",
        "# TODO"
      ]
    },
    {
      "cell_type": "code",
      "execution_count": null,
      "metadata": {},
      "outputs": [],
      "source": []
    },
    {
      "cell_type": "markdown",
      "metadata": {
        "id": "JZvZ0TfKdFD0"
      },
      "source": [
        "(15). How to code the following \"for loop\" with \"while loop\"?"
      ]
    },
    {
      "cell_type": "code",
      "execution_count": 15,
      "metadata": {
        "colab": {
          "base_uri": "https://localhost:8080/"
        },
        "id": "hEKQ_p9vegOO",
        "outputId": "fa528258-ec4b-4a4e-d0fe-9579504b02b1"
      },
      "outputs": [
        {
          "name": "stdout",
          "output_type": "stream",
          "text": [
            "a b c d e f g h i j k l m n o p q r s t u v w x y z "
          ]
        }
      ],
      "source": [
        "# for loop;\n",
        "for i in range(ord('a'),ord('z')+1):\n",
        "    print(chr(i), end=\" \")\n",
        "# while eşdeğeri (while equivalent)?\n",
        "# TODO"
      ]
    },
    {
      "cell_type": "code",
      "execution_count": null,
      "metadata": {},
      "outputs": [],
      "source": []
    },
    {
      "cell_type": "code",
      "execution_count": 25,
      "metadata": {
        "colab": {
          "base_uri": "https://localhost:8080/"
        },
        "id": "dqHnDjLKf5fT",
        "outputId": "478c95a6-8d22-4105-c645-a57ec40e4cc3"
      },
      "outputs": [
        {
          "name": "stdout",
          "output_type": "stream",
          "text": [
            "desired output..:\n",
            "Entered num..: 5104\n",
            "Hanife\n"
          ]
        }
      ],
      "source": [
        "#(16). Numarası girilen kursiyerin adını yazan programı kodlayınız.\n",
        "list_no = list(range(5101,5118))\n",
        "list_name = [\"Emre\",\"Umut\",\"Rizgar\",\"Hanife\", \"Şule\",\"Hüseyin\",\"İrfan\", \"Nihal\",\"Hüseyin Özer\", \"Esra\",\"Yunus\",\"Fatih\",\"Halit\",\"Emirhan\",\"Mustafa\"]\n",
        "\n",
        "#TODO\n",
        "\n",
        "\n"
      ]
    },
    {
      "cell_type": "code",
      "execution_count": 54,
      "metadata": {},
      "outputs": [
        {
          "name": "stdout",
          "output_type": "stream",
          "text": [
            "5101 Emre\n",
            "5102 Umut\n",
            "5103 Rizgar\n",
            "5104 Hanife\n",
            "5105 Şule\n",
            "5106 Hüseyin\n",
            "5107 İrfan\n",
            "5108 Nihal\n",
            "5109 Hüseyin Özer\n",
            "5110 Esra\n",
            "5111 Yunus\n",
            "5112 Fatih\n",
            "5113 Halit\n",
            "5114 Emirhan\n",
            "5115 Mustafa\n"
          ]
        }
      ],
      "source": [
        "list_no = list(range(5101,5118))\n",
        "list_name = [\"Emre\",\"Umut\",\"Rizgar\",\"Hanife\", \"Şule\",\"Hüseyin\",\"İrfan\", \"Nihal\",\"Hüseyin Özer\", \"Esra\",\"Yunus\",\"Fatih\",\"Halit\",\"Emirhan\",\"Mustafa\"]\n",
        "for x,y in zip(list_no,list_name):\n",
        "    print(x,y)\n",
        "    "
      ]
    }
  ],
  "metadata": {
    "colab": {
      "provenance": []
    },
    "kernelspec": {
      "display_name": "Python 3",
      "language": "python",
      "name": "python3"
    },
    "language_info": {
      "codemirror_mode": {
        "name": "ipython",
        "version": 3
      },
      "file_extension": ".py",
      "mimetype": "text/x-python",
      "name": "python",
      "nbconvert_exporter": "python",
      "pygments_lexer": "ipython3",
      "version": "3.11.1 (tags/v3.11.1:a7a450f, Dec  6 2022, 19:58:39) [MSC v.1934 64 bit (AMD64)]"
    },
    "orig_nbformat": 4,
    "vscode": {
      "interpreter": {
        "hash": "ec7e8c5f221ede34fcb59adf6ebad19b5fdf6bcf45ce6f5542b63bd5586000b8"
      }
    }
  },
  "nbformat": 4,
  "nbformat_minor": 0
}
