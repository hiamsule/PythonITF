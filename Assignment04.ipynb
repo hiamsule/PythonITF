{
  "cells": [
    {
      "attachments": {},
      "cell_type": "markdown",
      "metadata": {
        "id": "vQepuni4Hg1p"
      },
      "source": [
        "**Task-4_1:** Given five positive integers, find the minimum and maximum values that can be calculated by summing exactly four of the five integers. Then print the respective minimum and maximum values as a single line of two space-separated long integers.\n",
        "Beş pozitif tam sayı verildiğinde, beş tam sayıdan tam olarak dördünün toplanmasıyla hesaplanabilecek minimum ve maksimum değerleri bulun. Ardından, ilgili minimum ve maksimum değerleri, boşlukla ayrılmış iki uzun tamsayıdan oluşan tek bir satır olarak yazdırın.\n",
        "Example:\n",
        "`arr = [1,4,5,6,7,9]`\n",
        "The minimum sum is 1+4+5+6+7=23 and the maximum sum is 4+5+6+7+9=31. \n",
        "The function prints \n",
        "`min_sum.: 23\n",
        "\n",
        "max_sum..: 31`"
      ]
    },
    {
      "cell_type": "code",
      "execution_count": null,
      "metadata": {
        "colab": {
          "base_uri": "https://localhost:8080/"
        },
        "id": "0A_Xot-iHfps",
        "outputId": "e28ae1ef-7bc7-480f-b202-8f9eb830e719"
      },
      "outputs": [
        {
          "name": "stdout",
          "output_type": "stream",
          "text": [
            "min_sum.: 23\n",
            "max_sum..: 31\n"
          ]
        }
      ],
      "source": [
        "arr = [1,4,5,6,7,9]\n",
        "def min_max_sum(arr):\n",
        "    pass\n",
        "    #TODO\n",
        "\n",
        "# main program\n",
        "print(min_max_sum(arr))"
      ]
    },
    {
      "cell_type": "code",
      "execution_count": 9,
      "metadata": {},
      "outputs": [],
      "source": [
        "arr = [1,4,5,6,7,9]\n",
        "def min_max_sum(arr):\n",
        "    x=list(sorted(arr))\n",
        "    min_sum=0\n",
        "    max_sum=0\n",
        "    for i in x[0:5]:\n",
        "        min_sum+=i\n",
        "    print(min_sum)\n",
        "    for i in x[-1:-6:-1]:\n",
        "        max_sum+=i\n",
        "    print(max_sum)"
      ]
    },
    {
      "cell_type": "code",
      "execution_count": 11,
      "metadata": {},
      "outputs": [
        {
          "name": "stdout",
          "output_type": "stream",
          "text": [
            "23\n",
            "31\n"
          ]
        }
      ],
      "source": [
        "arr = [1,4,5,6,7,9]\n",
        "min_max_sum(arr)"
      ]
    },
    {
      "attachments": {},
      "cell_type": "markdown",
      "metadata": {
        "id": "DL0ZITGgMAXU"
      },
      "source": [
        "**Task-4_2: Digital Coronometer:** Model a digital stopwatch using nested loops and the time.sleep(1) method;\n",
        "\n",
        "`Time (minutes).: 3\n",
        "\n",
        "02:59`\n",
        "iç içe döngüler ve time.sleep(1) yöntemini kullanarak bir dijital kronometreyi modelleyin;\n",
        "\n",
        "`Süre (dakika): 3\n",
        "\n",
        "02:59`\n",
        "\n",
        "\n",
        "https://pomofocus.io/"
      ]
    },
    {
      "cell_type": "code",
      "execution_count": null,
      "metadata": {
        "id": "6tZRFkw2MJfm"
      },
      "outputs": [],
      "source": [
        "import time\n",
        "def coronometer(dakika):\n",
        "    pass\n",
        "    #TO DO\n",
        "\n",
        "# main program\n",
        "n = int(input(\"Time (minutes).: \"))\n",
        "coronometer(n)"
      ]
    },
    {
      "attachments": {},
      "cell_type": "markdown",
      "metadata": {
        "id": "wpPSKsYmfkhx"
      },
      "source": [
        "**Task-4_3: range function.:**\n",
        "\n",
        "Code your own range function whose step value can be a fractional number.\n",
        "\n",
        "\n",
        "```\n",
        "my_range(0,10,0.5) #then\n",
        "[0, 0.5, 1.0, 1.5, 2.0, 2.5, 3.0, 3.5, 4.0, 4.5, 5.0, 5.5, 6.0, 6.5, 7.0, 7.5, 8.0, 8.5, 9.0, 9.5]\n",
        "Görev-4_3: aralık işlevi.:**\n",
        "\n",
        "Adım değeri kesirli bir sayı olabilen kendi aralık fonksiyonunuzu kodlayın.\n",
        "\n",
        "\n",
        "```\n",
        "benim_aralığım(0,10,0.5) #sonra\n",
        "```\n",
        "\n"
      ]
    },
    {
      "cell_type": "code",
      "execution_count": null,
      "metadata": {
        "colab": {
          "base_uri": "https://localhost:8080/"
        },
        "id": "SueL7kOhfwZe",
        "outputId": "ffae279d-8a77-4b6b-a090-f7ace1558f32"
      },
      "outputs": [
        {
          "name": "stdout",
          "output_type": "stream",
          "text": [
            "[0, 0.5, 1.0, 1.5, 2.0, 2.5, 3.0, 3.5, 4.0, 4.5, 5.0, 5.5, 6.0, 6.5, 7.0, 7.5, 8.0, 8.5, 9.0, 9.5]\n",
            "[5, 6, 7, 8, 9]\n"
          ]
        }
      ],
      "source": [
        "def my_range(start=0, stop=0, step=1):\n",
        "    pass\n",
        "    #TO DO\n",
        "\n",
        "\n",
        "\n",
        "#test : main program\n",
        "print(my_range(0,10,0.5)) \n",
        "print(my_range(5,10)) #default step:1"
      ]
    },
    {
      "cell_type": "code",
      "execution_count": 21,
      "metadata": {},
      "outputs": [],
      "source": [
        "def my_range(start=0, stop=0, step=1):\n",
        "    range_liste=[]\n",
        "    while start<stop:\n",
        "        range_liste.append(start)\n",
        "        start+=step\n",
        "    return range_liste"
      ]
    },
    {
      "cell_type": "code",
      "execution_count": 22,
      "metadata": {},
      "outputs": [
        {
          "name": "stdout",
          "output_type": "stream",
          "text": [
            "[0, 0.5, 1.0, 1.5, 2.0, 2.5, 3.0, 3.5, 4.0, 4.5, 5.0, 5.5, 6.0, 6.5, 7.0, 7.5, 8.0, 8.5, 9.0, 9.5]\n",
            "[5, 6, 7, 8, 9]\n"
          ]
        }
      ],
      "source": [
        "print(my_range(0,10,0.5)) \n",
        "print(my_range(5,10))"
      ]
    },
    {
      "attachments": {},
      "cell_type": "markdown",
      "metadata": {
        "id": "Mr9oL2gYgIfV"
      },
      "source": [
        "# **Task-4_4- Histogram:** Let's generate n random numbers between 1-10 (such as n=20) and keep them in a list.\n",
        "\n",
        "1-10 arasında (n=20 gibi) n rasgele sayı üretelim ve bunları bir liste halinde tutalım.\n",
        "\n",
        "```\n",
        "Desired output..: \n",
        "liste = [10, 9, 10, 2, 3, 5, 7, 6, 10, 10, 4, 10, 5, 9, 4, 3, 5, 6, 9]\n",
        "10 : *****\n",
        "7 : *\n",
        "9 : ***\n",
        "6 : **\n",
        "3 : ***\n",
        "5 : ***\n",
        "4 : **\n",
        "2 : *\n",
        "```\n",
        "\n"
      ]
    },
    {
      "cell_type": "code",
      "execution_count": null,
      "metadata": {
        "colab": {
          "base_uri": "https://localhost:8080/"
        },
        "id": "-VGX2j-nGeo-",
        "outputId": "d6ed3c5c-0091-45d4-d98b-e43d7901feec"
      },
      "outputs": [
        {
          "name": "stdout",
          "output_type": "stream",
          "text": [
            "[10, 6, 7, 8, 1, 7, 7, 3, 2, 8, 4, 5, 2, 3, 3, 1, 1, 8, 9, 2]\n",
            "1 : ***\n",
            "2 : ***\n",
            "3 : ***\n",
            "4 : *\n",
            "5 : *\n",
            "6 : *\n",
            "7 : ***\n",
            "8 : ***\n",
            "9 : *\n",
            "10 : *\n"
          ]
        }
      ],
      "source": [
        "import random\n",
        "def histogram(n):\n",
        "    '''fonksiyon n adet sayi üretir ve her sayinin frekansini belirleyerek histogramini olusturur.'''\n",
        "    pass\n",
        "    #TO DO\n",
        "\n",
        "    \n",
        "\n",
        "#main program\n",
        "n = 20\n",
        "histogram(n)"
      ]
    },
    {
      "cell_type": "code",
      "execution_count": null,
      "metadata": {},
      "outputs": [],
      "source": []
    },
    {
      "attachments": {},
      "cell_type": "markdown",
      "metadata": {
        "id": "4t0WHymWhb4t"
      },
      "source": [
        "**Task-4_5 Cashier:** Given an amount (money), find the minimum number of notes of different denominations that sum up to the given amount. Starting from the highest denomination note, try to accommodate as many notes as possible for a given amount.\n",
        "We may assume that we have infinite supply of notes of values \n",
        "Bir miktar (para) verildiğinde, verilen miktara ulaşan farklı mezheplerdeki minimum banknot sayısını bulun. En yüksek değerdeki banknottan başlayarak, belirli bir miktar için mümkün olduğu kadar çok banknot yerleştirmeye çalışın.\n",
        "Sonsuz sayıda değer notuna sahip olduğumuzu varsayabiliriz.\n",
        "\n",
        "[500, 200, 100, 50, 20, 10, 5, 1]"
      ]
    },
    {
      "cell_type": "code",
      "execution_count": null,
      "metadata": {
        "colab": {
          "base_uri": "https://localhost:8080/"
        },
        "id": "HYKSpKCZhdlV",
        "outputId": "29e0ae81-abc8-4df2-95d5-2c1e7d1ecd9a"
      },
      "outputs": [
        {
          "name": "stdout",
          "output_type": "stream",
          "text": [
            "4 pcs 500 Euro\n",
            "2 pcs 200 Euro\n",
            "1 pcs 50 Euro\n",
            "1 pcs 5 Euro\n",
            "1 pcs 1 Euro\n"
          ]
        }
      ],
      "source": [
        "def cashier(para):\n",
        "    \n",
        "    pass\n",
        "    #TO DO\n",
        "\n",
        "\n",
        "#Test : main program\n",
        "banknot = [500, 200, 100, 50, 20, 10, 5, 1]\n",
        "cashier(2456)\n",
        "\n",
        "# Input : 2456\n",
        "# Desired Output :\n",
        "# Count pcs Currency\n",
        "# 4 pcs 500 Euro\n",
        "# 2 pcs 200 Euro\n",
        "# 1 pcs 50 Euro\n",
        "# 1 pcs 5 Euro\n",
        "# 1 pcs 1 Euro"
      ]
    },
    {
      "cell_type": "code",
      "execution_count": 3,
      "metadata": {},
      "outputs": [
        {
          "ename": "IndentationError",
          "evalue": "expected an indented block after function definition on line 1 (3817111921.py, line 2)",
          "output_type": "error",
          "traceback": [
            "\u001b[1;36m  Cell \u001b[1;32mIn[3], line 2\u001b[1;36m\u001b[0m\n\u001b[1;33m    a = x // 500\u001b[0m\n\u001b[1;37m    ^\u001b[0m\n\u001b[1;31mIndentationError\u001b[0m\u001b[1;31m:\u001b[0m expected an indented block after function definition on line 1\n"
          ]
        }
      ],
      "source": [
        "def para(x):\n",
        "a = x // 500\n",
        "x = x % 500\n",
        "b = x // 200\n",
        "x = x % 200\n",
        "c = x // 50\n",
        "x = x % 50\n",
        "d = x // 5\n",
        "x = x % 5\n",
        "e = x\n",
        "print(a, \"adet 500 Euro banknot,\", b, \"adet 200 Euro banknot,\", c, \"adet 50 Euro banknot,\", d, \"adet 5 Euro banknot ve\", e, \"adet 1 Euro banknot\")\n",
        "\n",
        "para_miktari = int(input(\"Para Miktarı:\"))\n",
        "para(para_miktari)"
      ]
    },
    {
      "cell_type": "markdown",
      "metadata": {
        "id": "ajPArcXD20xI"
      },
      "source": [
        "**Task-4_6: Filter vowel:** \n",
        "Code the programme that filters the vowels in a text. Exam: \n",
        "\n",
        "```\n",
        "Given a text.: Ali babam geldi.\n",
        "#Output:\n",
        "{'a', 'e', 'i'}\n",
        "```\n",
        "\n",
        "\n"
      ]
    },
    {
      "cell_type": "code",
      "execution_count": 5,
      "metadata": {
        "colab": {
          "base_uri": "https://localhost:8080/"
        },
        "id": "WabkMNa12_WO",
        "outputId": "f0cf6c91-51aa-4863-866b-c5b92d993a37"
      },
      "outputs": [
        {
          "name": "stdout",
          "output_type": "stream",
          "text": [
            "Given a text.: Ali babam geldi.\n",
            "{'a', 'e', 'i'}\n"
          ]
        }
      ],
      "source": [
        "def filter_vowel(text):\n",
        "    pass\n",
        "\n",
        "# test: main program\n",
        "#..."
      ]
    },
    {
      "cell_type": "code",
      "execution_count": 26,
      "metadata": {},
      "outputs": [],
      "source": [
        "def filter_vowel(text):\n",
        "    return set(text.lower())"
      ]
    },
    {
      "cell_type": "code",
      "execution_count": 27,
      "metadata": {},
      "outputs": [
        {
          "name": "stdout",
          "output_type": "stream",
          "text": [
            "{'e', 'a', 'b', 'i', 'm', 'g', '.', 'd', ' ', 'l'}\n"
          ]
        }
      ],
      "source": [
        "text=\"Ali babam geldi.\"\n",
        "print(filter_vowel(text))"
      ]
    }
  ],
  "metadata": {
    "colab": {
      "provenance": []
    },
    "kernelspec": {
      "display_name": "Python 3",
      "language": "python",
      "name": "python3"
    },
    "language_info": {
      "codemirror_mode": {
        "name": "ipython",
        "version": 3
      },
      "file_extension": ".py",
      "mimetype": "text/x-python",
      "name": "python",
      "nbconvert_exporter": "python",
      "pygments_lexer": "ipython3",
      "version": "3.11.1"
    },
    "orig_nbformat": 4,
    "vscode": {
      "interpreter": {
        "hash": "ec7e8c5f221ede34fcb59adf6ebad19b5fdf6bcf45ce6f5542b63bd5586000b8"
      }
    }
  },
  "nbformat": 4,
  "nbformat_minor": 0
}
