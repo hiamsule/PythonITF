{
  "cells": [
    {
      "cell_type": "markdown",
      "metadata": {
        "id": "IWvg6TOTwBFX"
      },
      "source": [
        "**Bilgi: Comparison operators (Karşılaştırma Operatörleri):**\n",
        "\n",
        "<ul>\n",
        "    <li>equal (Eşit mi?): <b>==</b></li>\n",
        "    <li>not equal (Eşit Değil mi?): <b>!=</b></li>\n",
        "    <li>greater than (Büyük mü?): <b>></b></li>\n",
        "    <li>less than (Küçük mü?): <b>&lt;</b></li>\n",
        "    <li>greater than or equal to (Büyük Eşit mi?): <b>>=</b></li>\n",
        "    <li>less than or equal to (Küçük Eşit mi?): <b>&lt;=</b></li>\n",
        "</ul>\n",
        "# Not. Karşılaştırma operatörlerinin hepsi True/False değer döndürür..."
      ]
    },
    {
      "cell_type": "code",
      "execution_count": null,
      "metadata": {
        "id": "BIY4-mmnwBFd"
      },
      "outputs": [],
      "source": [
        "# Atama (=) operatörü ile Eşit Mi? (==) operatörünü karıştırmayınız!\n",
        "a = 5 ile a değişkenine(variable) 5 değeri(value) atanırken,\n",
        "a == 5 ile \"a nın değeri 5'e eşit mi?\" sorgusu yapılmış olur. "
      ]
    },
    {
      "cell_type": "markdown",
      "metadata": {
        "id": "Qt0gjDBhwBFi"
      },
      "source": [
        "1) \n",
        "a = 5; b = 4 ise \"y = (a<b) or (b>=a) and (a==5)\" ifadesinin tersi nedir?\n"
      ]
    },
    {
      "cell_type": "code",
      "execution_count": null,
      "metadata": {
        "id": "V0tA2ckHwBFj"
      },
      "outputs": [],
      "source": [
        "a = 5; b = 4 #ise \n",
        "y = (a<b) or (b>=a) and (a==5) # ifadesinin tersi nasıl ifade edilir?\n",
        "\n",
        "# Write your code below and press Shift+Enter to execute\n",
        "# Cevap = islemlerin sonucu: F or F and T yani False > tersi ise not False = True ya da tüm islemi not()`a aliriz en basta."
      ]
    },
    {
      "cell_type": "markdown",
      "metadata": {
        "id": "bj-Nz1mtwBFj"
      },
      "source": [
        "2)\n",
        "a = 7; b = 3; c = 2; d = 3; ad =\"clarusway\" için\n",
        "**not a and b!=c or d and ad** ifadesinin sonucunu bulunuz? "
      ]
    },
    {
      "cell_type": "code",
      "execution_count": null,
      "metadata": {
        "id": "F-djeA-KwBFj"
      },
      "outputs": [],
      "source": [
        "a = 7; b = 3;\n",
        "c = 2; d = 3\n",
        "ad = \"clarusway\" \n",
        "# Write your code below and press Shift+Enter to execute\n",
        "# Cevap = False and b(True) != c(True) or d(True) and ad(True) > False and False or True and True >> sonuc ad yani clarusway yazar."
      ]
    },
    {
      "cell_type": "markdown",
      "metadata": {
        "id": "3k705QLIwBFl"
      },
      "source": [
        "3) Type a Python code to get the output of “**I live in Sarajevo.**”, using .capitalize() and f-string methods with the city variable below.\n",
        "\n",
        "city = \"SARAJEVO\"\n",
        "Note that; use double quotes within f-string method."
      ]
    },
    {
      "cell_type": "code",
      "execution_count": 2,
      "metadata": {
        "id": "BJMX1eKMwBFn",
        "outputId": "a4306b40-1848-4169-e2b4-b96edc57c1a5"
      },
      "outputs": [
        {
          "name": "stdout",
          "output_type": "stream",
          "text": [
            "I live in Sarajevo.\n"
          ]
        }
      ],
      "source": [
        "city = \"SARAJEVO\"\n",
        "# Write your code below and press Shift+Enter to execute\n",
        "\n",
        "print(f\"I live in {city.capitalize()}.\")"
      ]
    },
    {
      "cell_type": "code",
      "execution_count": 5,
      "metadata": {
        "id": "wQ0bQxjKwBFn",
        "outputId": "19190b26-8d23-4d00-d322-a8261f01e97e"
      },
      "outputs": [
        {
          "data": {
            "text/plain": [
              "'Mic'"
            ]
          },
          "execution_count": 5,
          "metadata": {},
          "output_type": "execute_result"
        }
      ],
      "source": [
        "# 4)\n",
        "# Assign string to variable then to print out the first three elements:\n",
        "name = \"Michael Jackson\"\n",
        "name[:3]"
      ]
    },
    {
      "cell_type": "markdown",
      "metadata": {
        "id": "ss2RqKf1wBFo"
      },
      "source": [
        "5) What is the variable's (name) last element?"
      ]
    },
    {
      "cell_type": "code",
      "execution_count": 6,
      "metadata": {
        "id": "GkutzQh8wBFo",
        "outputId": "832d5a42-439f-4159-cc76-e2d0a3d6d842"
      },
      "outputs": [
        {
          "data": {
            "text/plain": [
              "'n'"
            ]
          },
          "execution_count": 6,
          "metadata": {},
          "output_type": "execute_result"
        }
      ],
      "source": [
        "# Print the last element in the string\n",
        "name = \"Michael Jackson\"\n",
        "name[-1]"
      ]
    },
    {
      "cell_type": "markdown",
      "metadata": {
        "id": "8uhXmoFHwBFp"
      },
      "source": [
        "6) How can find the number of characters in a string?\n"
      ]
    },
    {
      "cell_type": "code",
      "execution_count": 7,
      "metadata": {
        "id": "zyxwvQ8_wBFp",
        "outputId": "505d8007-23a3-4eaa-ab47-31532ec3bce6"
      },
      "outputs": [
        {
          "name": "stdout",
          "output_type": "stream",
          "text": [
            "15\n"
          ]
        }
      ],
      "source": [
        "# Find the length of string\n",
        "name = \"Michael Jackson\"\n",
        "print(len(name))"
      ]
    },
    {
      "cell_type": "markdown",
      "metadata": {
        "id": "mvpFCvqbwBFq"
      },
      "source": [
        "7) Given text is palindrome? \n",
        "```\n",
        "Desired sample outputs:\n",
        "Your text..: ey edip adanada pide ye\n",
        "palindrom\n",
        "Your text..: adam\n",
        "no palindrom\n",
        "```\n",
        "\n",
        "*Not. Palindrom, tersten yazılışı da kendisi ile aynı olan metinlere denir. Örneğin “ada” sözcüğü palindrom iken “eda” sözcüğü palindrom değildir. "
      ]
    },
    {
      "cell_type": "code",
      "execution_count": 15,
      "metadata": {
        "id": "G94siRUXwBFr"
      },
      "outputs": [
        {
          "name": "stdout",
          "output_type": "stream",
          "text": [
            "Palindrom\n"
          ]
        }
      ],
      "source": [
        "# Write your code below and press Shift+Enter to execute\n",
        "text = input (\" Text Giriniz  :\")\n",
        "print(text[::1] == text[::-1] and \"Palindrom\" or \"no Palindrom\")\n"
      ]
    },
    {
      "cell_type": "markdown",
      "metadata": {
        "id": "4xuuV_SuwBFs"
      },
      "source": [
        "8) VKI değerini virgülden sonraki son 2 basamağı gösterecek şekilde düzenlemek için programın 3 ve 4. satırını düzenleyiniz.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)"
      ]
    },
    {
      "cell_type": "code",
      "execution_count": 7,
      "metadata": {
        "id": "MtYjjnvEwBFs",
        "outputId": "a26679c9-0b14-4af9-ca85-26f1aea3416c"
      },
      "outputs": [
        {
          "name": "stdout",
          "output_type": "stream",
          "text": [
            "27.46\n",
            "27.46\n"
          ]
        }
      ],
      "source": [
        "kilo = int(input(\"Kilonuzu giriniz\"))\n",
        "boy = float(input(\"Boyunuzu giriniz\"))\n",
        "vki = kilo/(boy**boy)\n",
        "print(str(vki)[:5])\n",
        "print(f\"{vki:.2f}\")"
      ]
    },
    {
      "cell_type": "markdown",
      "metadata": {
        "id": "7TnqZYeh1gM6"
      },
      "source": [
        "**9.How to count words in a sentence?**"
      ]
    },
    {
      "cell_type": "code",
      "execution_count": 26,
      "metadata": {
        "id": "FenVsrRVwBFt",
        "outputId": "87dabf68-f057-4dac-9543-74ba176c6f78"
      },
      "outputs": [
        {
          "name": "stdout",
          "output_type": "stream",
          "text": [
            "20\n"
          ]
        }
      ],
      "source": [
        "text = \"\"\"\n",
        "Data preprocessing is an important task in text classification.\n",
        "This program counts words in a sentence.\n",
        "It starts with space separated words.\n",
        "\"\"\"\n",
        "# Write your code below and press Shift+Enter to execute \n",
        "\n",
        "print(len(text[:20]))  #bu cözüm yanlis.Cümledeki kelime sayisini soruyor?"
      ]
    },
    {
      "cell_type": "markdown",
      "metadata": {
        "id": "SJUKPsuZwBFt"
      },
      "source": [
        "10.  How to change, '0' to 'o' in text?"
      ]
    },
    {
      "cell_type": "code",
      "execution_count": 27,
      "metadata": {
        "id": "XJY6Vi-ewBFu",
        "outputId": "90a94b6f-fb1e-4085-8733-fc59d64023cd"
      },
      "outputs": [
        {
          "name": "stdout",
          "output_type": "stream",
          "text": [
            "Sodome and Gomore\n"
          ]
        }
      ],
      "source": [
        "text = \"S0d0me and G0m0re\"\n",
        "# Write your code below and press Shift+Enter to execute\n",
        "\n",
        "print(text.replace(\"0\",\"o\"))"
      ]
    },
    {
      "cell_type": "markdown",
      "metadata": {
        "id": "zxJ7SwSqwBFv"
      },
      "source": [
        "11. **text = 'In God wee  Trust'**\n",
        "In the text below, accidentally the number the word “we” is wrong written. Remove the additional “e” letter and print the correct text.\n",
        "You can also use indexing/slicing/methods of string."
      ]
    },
    {
      "cell_type": "code",
      "execution_count": 28,
      "metadata": {
        "colab": {
          "base_uri": "https://localhost:8080/"
        },
        "id": "riL0RjaQwBFw",
        "outputId": "81ad91ea-95dc-459d-c719-7d25748215a4"
      },
      "outputs": [
        {
          "name": "stdout",
          "output_type": "stream",
          "text": [
            "In God we  Trust\n"
          ]
        }
      ],
      "source": [
        "text = 'In God wee  Trust'\n",
        "# Write your code below and press Shift+Enter to execute\n",
        "\n",
        "print(text.replace(\"wee\",\"we\"))"
      ]
    },
    {
      "cell_type": "markdown",
      "metadata": {
        "id": "UNvA_YSvwBFx"
      },
      "source": [
        "12. The unordered words of a sentence are given below. Write a code to set them in order and print `\"Good teachers know how to bring out the best in students.\"` using .format() method.\n",
        "\n",
        "\n",
        "\"                              \".format ('in', 'know', 'bring', 'to', 'students.', 'out', 'best', 'teachers', 'the', 'Good', 'how')"
      ]
    },
    {
      "cell_type": "code",
      "execution_count": 29,
      "metadata": {
        "id": "oG2Fm8M-wBFx",
        "outputId": "4a8350d3-7740-4a3a-8b1f-b647e6587b29"
      },
      "outputs": [
        {
          "name": "stdout",
          "output_type": "stream",
          "text": [
            "Good teachers know how to bring out the best in students.\n"
          ]
        }
      ],
      "source": [
        "# Write your code below and press Shift+Enter to execute\n",
        "\n",
        "print(\"{9} {7} {1} {10} {3} {2} {5} {8} {6} {0} {4}\".format ('in', 'know', 'bring', 'to', 'students.', 'out', 'best', 'teachers', 'the', 'Good', 'how'))\n",
        "\n"
      ]
    },
    {
      "cell_type": "markdown",
      "metadata": {
        "id": "Kjaf9mCSwBFy"
      },
      "source": [
        "**13.** In order to print the following text using %, f-string and .format() method, arrange the variable text.\n",
        "\n",
        "`Hello! I am a new programmer and I love Clarusway.`\n",
        "\n"
      ]
    },
    {
      "cell_type": "code",
      "execution_count": null,
      "metadata": {
        "colab": {
          "base_uri": "https://localhost:8080/"
        },
        "id": "sT7dBbHGwBFy",
        "outputId": "8ee4d148-2287-404e-9cbe-c2546d3b4ae4"
      },
      "outputs": [
        {
          "name": "stdout",
          "output_type": "stream",
          "text": [
            "Hello! I am a new programmer and I love Clarusway.\n"
          ]
        }
      ],
      "source": [
        "str1 = \"Hello\"\n",
        "str2 = \"new\"\n",
        "str3 = \"love\"\n",
        "# Write your code below and press Shift+Enter to execute\n",
        "text = \" \".format() \n",
        "# alternative: text = f\"....\" or % ...\n",
        "\n",
        "text = f\"{str1}! I am a{str2} programmer and I {str3} Clarusway\"  # \"f tzdffdsdf {} arada , filan yok!!\"\n",
        "print(text)"
      ]
    },
    {
      "cell_type": "markdown",
      "metadata": {
        "id": "azYvrRqPDNqF"
      },
      "source": [
        "14. Write a program that returns the lesser of two given numbers if both numbers are even, but returns the greater if one or both numbers are odd.\n",
        "```\n",
        "Desired output:\n",
        "(2,4)---> 2\n",
        "(2,3)---> 3\n",
        "(3,4)---> 4\n",
        "```\n",
        "\n"
      ]
    },
    {
      "attachments": {},
      "cell_type": "markdown",
      "metadata": {
        "id": "_7LddA-nF8T5"
      },
      "source": [
        "# Write your code below and press Shift+Enter to execute\n",
        " 14.Write a program that returns the lesser of two given numbers if both numbers are even, but returns the greater if one or both numbers are odd. \n"
      ]
    },
    {
      "cell_type": "code",
      "execution_count": 10,
      "metadata": {},
      "outputs": [
        {
          "name": "stdout",
          "output_type": "stream",
          "text": [
            "False\n"
          ]
        }
      ],
      "source": [
        "a = int(input(\"Bir Sayi Giriniz  :\"))\n",
        "b = int(input(\" Bir Sayi Daha Giriniz  :\"))\n",
        "print((a%2 == b%2 ==0) and (min(a,b)) or (a%2 !=0 or  b%2 != 0) and (max(a,b)))  \n",
        "   #ikinci olasi durumu kendi icinde parantezlerle sonrasinda genel olarak araya \"or\" ile bagliyoruz hep.\n",
        "   \n",
        "   ???ama 0 da olmuyor.\n",
        "#\n",
        "num1 = int(input(\"Bir sayi giriniz: \"))\n",
        "num2 = int(input(\"Bir sayi daha giriniz: \"))\n",
        "if (num1 % 2 == 0) and (num2 % 2 == 0):\n",
        "    if num1 > num2:\n",
        "        print(f\"({num1}, {num2})---> {num2}\")\n",
        "    else:\n",
        "        print(f\"({num1}, {num2})---> {num1}\")\n",
        "if (num1 % 2 != 0) or (num2 % 2 != 0):\n",
        "    if num1 > num2:\n",
        "        print(f\"({num1}, {num2})---> {num1}\")\n",
        "    else:\n",
        "        print(f\"({num1}, {num2})---> {num2}\")"
      ]
    },
    {
      "cell_type": "markdown",
      "metadata": {
        "id": "0WQ6XmN1GjLw"
      },
      "source": [
        "15.  Bir string içerisindeki istenmeyen karakterleri (ki bu örnek için emojileri)  kaldıran programı yazınız. (String metotları bir araştırarak farklı çözümler geliştirmenizi bekliyorum...)\n",
        "\n",
        "```\n",
        "Özgün mesaj: Hi 🙂! Is the group meeting tomorrow? 😂 I need to plan something.  So, please let me know. 😧\n",
        "Temizlenmiş mesaj: Hi ! Is the group meeting tomorrow?  I need to plan something.  So, please let me know.\n",
        "```\n",
        "\n"
      ]
    },
    {
      "cell_type": "code",
      "execution_count": 16,
      "metadata": {
        "id": "kuKxueGAGcyy"
      },
      "outputs": [
        {
          "name": "stdout",
          "output_type": "stream",
          "text": [
            "Hi  Is the group meeting tomorrow?    I need to plan something.  So, please let me know. \n"
          ]
        }
      ],
      "source": [
        "ozgun_mesaj = \"Hi 😅! Is the group meeting tomorrow?  😂  I need to plan something.  So, please let me know. 😧\"\n",
        "# Write your code below and press Shift+Enter to execute   \n",
        "print(ozgun_mesaj.replace(\"😅!\",\"\").replace(\"😂\",\"\") .replace(\"😧\",\"\"))                   "
      ]
    },
    {
      "cell_type": "markdown",
      "metadata": {
        "id": "gN2EAEwu6vr8"
      },
      "source": [
        "16. Aşağıdaki matematiksel ifade bilgisayar ortamında nasıl kodlanır? \n",
        "![image.png](data:image/png;base64,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)"
      ]
    },
    {
      "cell_type": "code",
      "execution_count": 35,
      "metadata": {
        "id": "7tuvaoBBHulG"
      },
      "outputs": [
        {
          "name": "stdout",
          "output_type": "stream",
          "text": [
            "270.0\n"
          ]
        }
      ],
      "source": [
        "# Pythonic solutions (not use if-else)\n",
        "# Write your code below and press Shift+Enter to execute\n",
        "a = 36\n",
        "Z = (5*pow(a,3/2))/4\n",
        "print(Z)\n"
      ]
    },
    {
      "cell_type": "markdown",
      "metadata": {
        "id": "3f61unxyIZSU"
      },
      "source": [
        "17. Verilen bir onlu sistemdeki (decimal) sayıyı (Örneğin 100) diğer sayı sistemlerine (ikili, sekizli, onaltılı) dönüştüren programı yazınız."
      ]
    },
    {
      "cell_type": "code",
      "execution_count": 23,
      "metadata": {
        "id": "up_2UpnuIfk8"
      },
      "outputs": [
        {
          "name": "stdout",
          "output_type": "stream",
          "text": [
            "1100100\n",
            "144\n",
            "64\n"
          ]
        }
      ],
      "source": [
        "# Write your code below and press Shift+Enter to execute\n",
        "x = 100\n",
        "print(f\"{x:b}\")\n",
        "print(f\"{x:o}\")\n",
        "print(f\"{x:x}\")"
      ]
    },
    {
      "cell_type": "markdown",
      "metadata": {
        "id": "_hW73eSh7fb_"
      },
      "source": [
        "18. Yarıçapı verilen bir dairenin alanını ve çevresini hesaplayan programı (değişken/sabit tanmlamalarına dikkat ederek) kodlayınız? (Alan=πr2, Çevre=2πr)"
      ]
    },
    {
      "cell_type": "code",
      "execution_count": 20,
      "metadata": {
        "id": "6ozEvK977e3b"
      },
      "outputs": [
        {
          "name": "stdout",
          "output_type": "stream",
          "text": [
            "Dairenin Alani  : 803.84 \n",
            "Dairenin Cevresi: 25.12\n"
          ]
        }
      ],
      "source": [
        "# Write your code below and press Shift+Enter to execute\n",
        "r = float(input(\"Yaricap Giriniz\"))\n",
        "PI = 3.14\n",
        "Alan = (PI)*(r**r) #pow(r,r)\n",
        "Cevre = 2*PI*r\n",
        "print(f\"Dairenin Alani  : {Alan:2f} \\nDairenin Cevresi: {Cevre:2f}\")"
      ]
    },
    {
      "cell_type": "markdown",
      "metadata": {
        "id": "1OUAknxuBJ9A"
      },
      "source": [
        "19. \"10,411.86\" şeklindeki bir ifade de nokta ile virgülün yerleri nasıl yer değiştirilir?"
      ]
    },
    {
      "cell_type": "code",
      "execution_count": 50,
      "metadata": {
        "colab": {
          "base_uri": "https://localhost:8080/"
        },
        "id": "EVV4FUEe-rOu",
        "outputId": "63f76efd-dfdf-4c9f-b730-3d6228ea6c9a"
      },
      "outputs": [
        {
          "name": "stdout",
          "output_type": "stream",
          "text": [
            "10.411,86\n"
          ]
        }
      ],
      "source": [
        "s = \"10,411.86\" # Desired Output.: 10.411,86\n",
        "# Write your code below and press Shift+Enter to execute\n",
        "\n",
        "s = s[:2]+\".\"+s[3:6]+\",\"+s[7:]  # s.replace(\".\",\",\").replace(\",\",\".\",\"1\")\n",
        "print(s)\n"
      ]
    },
    {
      "cell_type": "markdown",
      "metadata": {
        "id": "TLT9sw6lK34q"
      },
      "source": [
        "20. Bir sayının negatif olup olmadığını test eden programın algoritmasını aşağıda verilmiştir. Bu algoritmanın Python dili kodlamasını (if- else kullanmadan) yapınız. \n",
        "![image.png](data:image/png;base64,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)"
      ]
    },
    {
      "cell_type": "code",
      "execution_count": 22,
      "metadata": {
        "id": "GZshM98CLps7"
      },
      "outputs": [
        {
          "name": "stdout",
          "output_type": "stream",
          "text": [
            "Negatif\n"
          ]
        }
      ],
      "source": [
        "# Write your code below and press Shift+Enter to execute\n",
        "sayi = int(input(\"Bir Sayi Giriniz  :\"))\n",
        "print(sayi<0 and \"Negatif\" or sayi>=0 and \"Degil\")"
      ]
    }
  ],
  "metadata": {
    "colab": {
      "provenance": []
    },
    "kernelspec": {
      "display_name": "Python 3",
      "language": "python",
      "name": "python3"
    },
    "language_info": {
      "codemirror_mode": {
        "name": "ipython",
        "version": 3
      },
      "file_extension": ".py",
      "mimetype": "text/x-python",
      "name": "python",
      "nbconvert_exporter": "python",
      "pygments_lexer": "ipython3",
      "version": "3.11.1 (tags/v3.11.1:a7a450f, Dec  6 2022, 19:58:39) [MSC v.1934 64 bit (AMD64)]"
    },
    "vscode": {
      "interpreter": {
        "hash": "ec7e8c5f221ede34fcb59adf6ebad19b5fdf6bcf45ce6f5542b63bd5586000b8"
      }
    }
  },
  "nbformat": 4,
  "nbformat_minor": 0
}
