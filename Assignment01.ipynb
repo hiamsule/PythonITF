{
 "cells": [
  {
   "attachments": {},
   "cell_type": "markdown",
   "metadata": {
    "id": "fepd5K3rAd-n"
   },
   "source": [
    "___\n",
    "\n",
    "<p style=\"text-align: center;\"><img src=\"https://docs.google.com/uc?id=1lY0Uj5R04yMY3-ZppPWxqCr5pvBLYPnV\" class=\"img-fluid\" \n",
    "alt=\"CLRSWY\"></p>\n",
    "\n",
    "## <p style=\"background-color:#FDFEFE; font-family:newtimeroman; color:#9d4f8c; font-size:100%; text-align:center; border-radius:10px 10px;\">WAY TO REINVENT YOURSELF</p>\n",
    "\n",
    "## <p style=\"background-color:#FDFEFE; font-family:newtimeroman; color:#060108; font-size:200%; text-align:center; border-radius:10px 10px;\">Python Basic</p>\n",
    "\n",
    "## <p style=\"background-color:#FDFEFE; font-family:newtimeroman; color:#4d77cf; font-size:200%; text-align:center; border-radius:10px 10px;\">Assignment 01 (print & naming variables )</p>"
   ]
  },
  {
   "attachments": {},
   "cell_type": "markdown",
   "metadata": {},
   "source": [
    "<a id=\"toc\"></a>\n",
    "\n",
    "## <p style=\"background-color:#9d4f8c; font-family:newtimeroman; color:#FFF9ED; font-size:175%; text-align:center; border-radius:10px 10px;\">Content</p>\n",
    "\n",
    "* [PRINT SECTION](#0)\n",
    "* [Naming Variables SECTION](#1)"
   ]
  },
  {
   "attachments": {},
   "cell_type": "markdown",
   "metadata": {
    "id": "lFoJR2iTAd-v"
   },
   "source": [
    "**All the subjects related to questions here already covered in preclass materials and in-class sessions. So good luck!**"
   ]
  },
  {
   "cell_type": "markdown",
   "metadata": {},
   "source": [
    "## <p style=\"background-color:#9d4f8c; font-family:newtimeroman; color:#FFF9ED; font-size:175%; text-align:center; border-radius:10px 10px;\">print() Section</p>\n",
    "\n",
    "<a id=\"0\"></a>\n",
    "<a href=\"#toc\" class=\"btn btn-primary btn-sm\" role=\"button\" aria-pressed=\"true\" \n",
    "style=\"color:blue; background-color:#dfa8e4\" data-toggle=\"popover\">Content</a>"
   ]
  },
  {
   "attachments": {},
   "cell_type": "markdown",
   "metadata": {},
   "source": [
    "### 1. How many lines will following code print?\n",
    "\n",
    "print(\"first line\")\n",
    "\n",
    "#print(\"second line\")\n",
    "\n",
    "print(\"third line\")  # print(\"forth line\")"
   ]
  },
  {
   "cell_type": "code",
   "execution_count": 1,
   "metadata": {},
   "outputs": [
    {
     "name": "stdout",
     "output_type": "stream",
     "text": [
      "first line\n",
      "third line\n"
     ]
    }
   ],
   "source": [
    "# YOUR ANSWER\n",
    "print(\"first line\")\n",
    "\n",
    "#print(\"second line\")\n",
    "\n",
    "print(\"third line\")  # print(\"forth line\")"
   ]
  },
  {
   "cell_type": "markdown",
   "metadata": {
    "id": "9LrbgcwYAd-w"
   },
   "source": [
    "### 2. How to Check Your Python Version?"
   ]
  },
  {
   "cell_type": "code",
   "execution_count": 2,
   "metadata": {},
   "outputs": [
    {
     "name": "stdout",
     "output_type": "stream",
     "text": [
      "Python 3.10.6\n"
     ]
    }
   ],
   "source": [
    "#for terminal\n",
    "python3 --version # linux, mac kullanıcıları için\n",
    "python --version  # python -V --> windows kullanıcıları için\n",
    "\n",
    "# or for colab\n",
    "!python3 --version\n"
   ]
  },
  {
   "attachments": {},
   "cell_type": "markdown",
   "metadata": {
    "id": "It1vT4JYAd-y"
   },
   "source": [
    "### 3. Arrange the following text variable using \\n and \\t escape sequences to print the output as follows :\n",
    "text = \"Clarusway, Clarusway, Clarusway\"\n"
   ]
  },
  {
   "cell_type": "code",
   "execution_count": 3,
   "metadata": {},
   "outputs": [
    {
     "name": "stdout",
     "output_type": "stream",
     "text": [
      "Clarusway, Clarusway, Clarusway ,\n",
      "\t Clarusway, Clarusway, Clarusway ,\n",
      "\t\t Clarusway, Clarusway, Clarusway\n"
     ]
    }
   ],
   "source": [
    "# YOUR CODE IS HERE\n",
    "text = \"Clarusway, Clarusway, Clarusway\"\n",
    "print(text, \",\\n\\t\", text, \",\\n\\t\\t\", text)\n"
   ]
  },
  {
   "cell_type": "code",
   "execution_count": 4,
   "metadata": {},
   "outputs": [
    {
     "name": "stdout",
     "output_type": "stream",
     "text": [
      "Clarusway, Clarusway, Clarusway,\n",
      "\tClarusway, Clarusway, Clarusway,\n",
      "\t\tClarusway, Clarusway, Clarusway\n"
     ]
    }
   ],
   "source": [
    "print(\"Clarusway, Clarusway, Clarusway,\\n\\tClarusway, Clarusway, Clarusway,\\n\\t\\tClarusway, Clarusway, Clarusway\")"
   ]
  },
  {
   "attachments": {},
   "cell_type": "markdown",
   "metadata": {
    "id": "1hVeq_fEAd-1"
   },
   "source": [
    "### 4. What is the output of the following code snippets?"
   ]
  },
  {
   "cell_type": "code",
   "execution_count": 5,
   "metadata": {},
   "outputs": [
    {
     "name": "stdout",
     "output_type": "stream",
     "text": [
      "py\thon\n"
     ]
    }
   ],
   "source": [
    "print(\"py\\thon\")\n",
    "# Out-1: ?"
   ]
  },
  {
   "cell_type": "code",
   "execution_count": 6,
   "metadata": {},
   "outputs": [
    {
     "name": "stdout",
     "output_type": "stream",
     "text": [
      "Guido'nun Python'ı\n"
     ]
    }
   ],
   "source": [
    "print(\"Guido\\'nun Python'ı\")\n",
    "# Out-2: ?"
   ]
  },
  {
   "cell_type": "code",
   "execution_count": 7,
   "metadata": {},
   "outputs": [
    {
     "name": "stdout",
     "output_type": "stream",
     "text": [
      "Guido'nun Pitonu.: 3.0\n"
     ]
    }
   ],
   "source": [
    "a, b = 9, 3\n",
    "print('Guido\\'nun Pitonu.:', a/b)\n",
    "# Out-3: ?"
   ]
  },
  {
   "cell_type": "code",
   "execution_count": 8,
   "metadata": {},
   "outputs": [
    {
     "name": "stdout",
     "output_type": "stream",
     "text": [
      "clarusway clarusway clarusway clarusway clarusway \n"
     ]
    }
   ],
   "source": [
    "print(\"clarusway \" *5)\n",
    "# Out-4: ?"
   ]
  },
  {
   "attachments": {},
   "cell_type": "markdown",
   "metadata": {},
   "source": [
    "### 5. Arrange the following text variable using escape sequences to print the output as follows :\n"
   ]
  },
  {
   "cell_type": "code",
   "execution_count": 12,
   "metadata": {},
   "outputs": [
    {
     "name": "stdout",
     "output_type": "stream",
     "text": [
      "\n",
      " o   ^__^\n",
      "  o  (oo)\\_______\n",
      "     (__)\\       )\\/\\\n",
      "         ||----w |\n",
      "         ||     ||\n",
      "\n"
     ]
    }
   ],
   "source": [
    "# YOUR CODE IS HERE  #asciiart sitesinde benzer örnekler var\n",
    "cow = \"\"\"\n",
    " o   ^__^\n",
    "  o  (oo)\\_______\n",
    "     (__)\\       )\\/\\\\\n",
    "         ||----w |\n",
    "         ||     ||\n",
    "\"\"\"\n",
    "print(cow)"
   ]
  },
  {
   "cell_type": "code",
   "execution_count": 13,
   "metadata": {},
   "outputs": [
    {
     "name": "stdout",
     "output_type": "stream",
     "text": [
      "\n",
      " o   ^__^\n",
      "  o  (oo)\\_______\n",
      "     (__)\\       )\\/\\\n",
      "         ||----w |\n",
      "         ||     ||\n",
      "\n"
     ]
    }
   ],
   "source": [
    "print(\"\"\"\n",
    " o   ^__^\n",
    "  o  (oo)\\_______\n",
    "     (__)\\       )\\/\\\\\n",
    "         ||----w |\n",
    "         ||     ||\n",
    "\"\"\")"
   ]
  },
  {
   "cell_type": "code",
   "execution_count": 14,
   "metadata": {},
   "outputs": [
    {
     "name": "stdout",
     "output_type": "stream",
     "text": [
      "\n",
      "      .            \n",
      "\\_____)\\_____\n",
      "/--v____ __`<         \n",
      "        )/           \n",
      "        '\n",
      "\n"
     ]
    }
   ],
   "source": [
    "fish = \"\"\"\n",
    "      .            \n",
    "\\_____)\\_____\n",
    "/--v____ __`<         \n",
    "        )/           \n",
    "        '\n",
    "\"\"\"\n",
    "print(fish)"
   ]
  },
  {
   "attachments": {},
   "cell_type": "markdown",
   "metadata": {
    "id": "1gD94nCeAd-5"
   },
   "source": [
    "### 6. How can we get the following output using a single print() function?\n",
    "müdür müdür müdür?"
   ]
  },
  {
   "cell_type": "code",
   "execution_count": 15,
   "metadata": {
    "id": "L8fjsn5JAd-6",
    "outputId": "8d9bc166-b598-4552-f4d2-873cf5edc2df"
   },
   "outputs": [
    {
     "name": "stdout",
     "output_type": "stream",
     "text": [
      "müdür müdür müdür ?"
     ]
    }
   ],
   "source": [
    "# YOUR CODE IS HERE\n",
    "print(\"müdür \"*3, end=\"?\")\n"
   ]
  },
  {
   "cell_type": "code",
   "execution_count": 16,
   "metadata": {},
   "outputs": [
    {
     "name": "stdout",
     "output_type": "stream",
     "text": [
      "müdür müdür müdür?"
     ]
    }
   ],
   "source": [
    "print(\"müdür \"*3, end=\"\\b?\")"
   ]
  },
  {
   "attachments": {},
   "cell_type": "markdown",
   "metadata": {
    "id": "XeOPD2dBAd-7"
   },
   "source": [
    "### 7. Write the Python code that prints out the text Hello, world:"
   ]
  },
  {
   "cell_type": "code",
   "execution_count": 18,
   "metadata": {
    "id": "xqoPe_PJAd-7",
    "outputId": "3388a381-4737-4997-bf40-e85ef80f0e0c"
   },
   "outputs": [
    {
     "name": "stdout",
     "output_type": "stream",
     "text": [
      "Hello, world\n"
     ]
    }
   ],
   "source": [
    "# YOUR CODE IS HERE\n",
    "print(\"Hello, world\")\n"
   ]
  },
  {
   "attachments": {},
   "cell_type": "markdown",
   "metadata": {
    "id": "G8_xFCyQAd-8"
   },
   "source": [
    "### 8. The following Python statement has an error in it:\n",
    "print(\"John, Paul, George, and Ringo)"
   ]
  },
  {
   "cell_type": "code",
   "execution_count": 20,
   "metadata": {
    "id": "Nu6VInWWAd-8",
    "outputId": "7b2afddf-d699-4b42-963a-6910b9a08362"
   },
   "outputs": [
    {
     "name": "stdout",
     "output_type": "stream",
     "text": [
      "John, Paul, George, and Ringo\n"
     ]
    }
   ],
   "source": [
    "# YOUR CODE IS HERE\n",
    "print(\"John, Paul, George, and Ringo\")\n"
   ]
  },
  {
   "attachments": {},
   "cell_type": "markdown",
   "metadata": {
    "id": "-SZvgEVVAd-9"
   },
   "source": [
    "### 9. How can access a docstring message?\n",
    "\n",
    "\"\"\" PEP 20 - Python Zen'i\n",
    "    Python felsefesini anlatır.\n",
    "    import this yaz,\n",
    "    sende öğren felsefesini,\n",
    "    Tim Peters yazdı.\n",
    "\"\"\""
   ]
  },
  {
   "cell_type": "code",
   "execution_count": 21,
   "metadata": {
    "id": "ddkmPCghAd--",
    "outputId": "41b5e595-63c5-417a-a93d-e235d4235969"
   },
   "outputs": [
    {
     "name": "stdout",
     "output_type": "stream",
     "text": [
      " PEP 20 - Python Zen'i\n",
      "    Python felsefesini anlatır.\n",
      "    import this yaz,\n",
      "    sende öğren felsefesini,\n",
      "    Tim Peters yazdı.\n",
      "\n"
     ]
    }
   ],
   "source": [
    "\"\"\" PEP 20 - Python Zen'i\n",
    "    Python felsefesini anlatır.\n",
    "    import this yaz,\n",
    "    sende öğren felsefesini,\n",
    "    Tim Peters yazdı.\n",
    "\"\"\"\n",
    "# YOUR CODE IS HERE\n",
    "print(__doc__)\n"
   ]
  },
  {
   "cell_type": "code",
   "execution_count": 22,
   "metadata": {},
   "outputs": [
    {
     "name": "stdout",
     "output_type": "stream",
     "text": [
      "The Zen of Python, by Tim Peters\n",
      "\n",
      "Beautiful is better than ugly.\n",
      "Explicit is better than implicit.\n",
      "Simple is better than complex.\n",
      "Complex is better than complicated.\n",
      "Flat is better than nested.\n",
      "Sparse is better than dense.\n",
      "Readability counts.\n",
      "Special cases aren't special enough to break the rules.\n",
      "Although practicality beats purity.\n",
      "Errors should never pass silently.\n",
      "Unless explicitly silenced.\n",
      "In the face of ambiguity, refuse the temptation to guess.\n",
      "There should be one-- and preferably only one --obvious way to do it.\n",
      "Although that way may not be obvious at first unless you're Dutch.\n",
      "Now is better than never.\n",
      "Although never is often better than *right* now.\n",
      "If the implementation is hard to explain, it's a bad idea.\n",
      "If the implementation is easy to explain, it may be a good idea.\n",
      "Namespaces are one honking great idea -- let's do more of those!\n"
     ]
    }
   ],
   "source": [
    "import this"
   ]
  },
  {
   "attachments": {},
   "cell_type": "markdown",
   "metadata": {},
   "source": [
    "### 10. Let's see the docstring of print() function:"
   ]
  },
  {
   "cell_type": "code",
   "execution_count": 23,
   "metadata": {},
   "outputs": [
    {
     "name": "stdout",
     "output_type": "stream",
     "text": [
      "print(value, ..., sep=' ', end='\\n', file=sys.stdout, flush=False)\n",
      "\n",
      "Prints the values to a stream, or to sys.stdout by default.\n",
      "Optional keyword arguments:\n",
      "file:  a file-like object (stream); defaults to the current sys.stdout.\n",
      "sep:   string inserted between values, default a space.\n",
      "end:   string appended after the last value, default a newline.\n",
      "flush: whether to forcibly flush the stream.\n"
     ]
    }
   ],
   "source": [
    "# YOUR CODE IS HERE\n",
    "print(print.__doc__)"
   ]
  },
  {
   "attachments": {},
   "cell_type": "markdown",
   "metadata": {
    "collapsed": true,
    "id": "gZ5HUfC4Ad_O"
   },
   "source": [
    "## <p style=\"background-color:#9d4f8c; font-family:newtimeroman; color:#FFF9ED; font-size:175%; text-align:center; border-radius:10px 10px;\">Naming Variables Section</p>\n",
    "\n",
    "<a id=\"1\"></a>\n",
    "<a href=\"#toc\" class=\"btn btn-primary btn-sm\" role=\"button\" aria-pressed=\"true\" \n",
    "style=\"color:blue; background-color:#dfa8e4\" data-toggle=\"popover\">Content</a>"
   ]
  },
  {
   "attachments": {},
   "cell_type": "markdown",
   "metadata": {
    "id": "XpsHE5BsAd_E"
   },
   "source": [
    "### 11. How To Convert  from Fahrenheit to Celsius Degree in Python?\n",
    "Your can use the following formula for converting degree Fahrenheit into degree Celsius:\n",
    "C = (F − 32) × 5/9 \n",
    "\n"
   ]
  },
  {
   "cell_type": "code",
   "execution_count": 25,
   "metadata": {
    "id": "8DWl1ExmAd_E",
    "outputId": "4a038c81-1da8-45ac-f09d-d1704256e212"
   },
   "outputs": [
    {
     "name": "stdout",
     "output_type": "stream",
     "text": [
      " Celsius.:: 37.77777777777778\n"
     ]
    }
   ],
   "source": [
    "# YOUR CODE IS HERE\n",
    "F = 100\n",
    "C = (F-32) * 5/9 \n",
    "print(\" Celsius.::\", C)"
   ]
  },
  {
   "cell_type": "code",
   "execution_count": 27,
   "metadata": {},
   "outputs": [
    {
     "name": "stdout",
     "output_type": "stream",
     "text": [
      " Celsius.:: 37.77777777777778\n"
     ]
    }
   ],
   "source": [
    "# YOUR CODE IS HERE\n",
    "F = int(input(\"Fahrenheit..: \"))  # Default olarak str tipinde veri alır biz bunu int`e cevirmeliyiz\n",
    "C = (F-32) * 5/9 \n",
    "print(\" Celsius.::\", C)"
   ]
  },
  {
   "attachments": {},
   "cell_type": "markdown",
   "metadata": {},
   "source": [
    "### 12. Which of the following is an invalid statement?"
   ]
  },
  {
   "cell_type": "code",
   "execution_count": 28,
   "metadata": {},
   "outputs": [
    {
     "name": "stdout",
     "output_type": "stream",
     "text": [
      "1234567\n"
     ]
    }
   ],
   "source": [
    "# A) \n",
    "x, y, z = 1, 234, 567\n",
    "\n",
    "# B)\n",
    "x_y_z = 1_234_567\n",
    "print(x_y_z)\n",
    "# C)\n",
    "xyz = 1234567\n",
    "\n",
    "#D) \n",
    "xyz_ = 1.234.567  # 1_234_567   #büyük sayilarda basamak degerini ayirmak icin _ kullanilabilir. Ancak (.) kullanilmaz."
   ]
  },
  {
   "cell_type": "code",
   "execution_count": null,
   "metadata": {},
   "outputs": [],
   "source": [
    "# YOUR ANSWER & WHY?"
   ]
  },
  {
   "attachments": {},
   "cell_type": "markdown",
   "metadata": {},
   "source": [
    "### 13. Write the Python code that assigns the value “super snake” to the variable hero and then prints it:"
   ]
  },
  {
   "cell_type": "code",
   "execution_count": 29,
   "metadata": {},
   "outputs": [
    {
     "name": "stdout",
     "output_type": "stream",
     "text": [
      "super snake\n"
     ]
    }
   ],
   "source": [
    "# YOUR CODE IS HERE\n",
    "hero = \"super snake\"\n",
    "print(hero)"
   ]
  },
  {
   "attachments": {},
   "cell_type": "markdown",
   "metadata": {
    "tags": []
   },
   "source": [
    "### 14. Here's a list of variables and their values:"
   ]
  },
  {
   "cell_type": "code",
   "execution_count": 31,
   "metadata": {},
   "outputs": [],
   "source": [
    "l = 17\n",
    "regression_model = 'Random Forest'\n",
    "user_gender = \"Male\"\n",
    "ageofTheStudent = \"12\""
   ]
  },
  {
   "cell_type": "markdown",
   "metadata": {},
   "source": [
    "Some of them are named in accordance with the naming conventions of PEP 8 and best practices, the others are not.\n",
    "\n",
    "Choose one of the correct&meaningful named variables, copy and paste it (only variable name not its value) to the empty line below. Let's print that variable to the screen with the print() function."
   ]
  },
  {
   "cell_type": "code",
   "execution_count": 32,
   "metadata": {
    "id": "WuXy195gAd_Q",
    "outputId": "830b246c-d81f-4a7a-f924-7243970bb3c1"
   },
   "outputs": [
    {
     "name": "stdout",
     "output_type": "stream",
     "text": [
      "Random Forest\n",
      "Male\n"
     ]
    }
   ],
   "source": [
    "# YOUR CODE IS HERE \n",
    "print(regression_model)\n",
    "print(user_gender)"
   ]
  },
  {
   "attachments": {},
   "cell_type": "markdown",
   "metadata": {},
   "source": [
    "### 15. Hans loves bananas. A pound of banana costs $2 in his town. Let's help him calculate how much he should pay for 5 pounds of bananas using print() function and multiplication operator 👉🏻 *\n",
    "\n",
    "Define two variables ➜ banana_cost and total_cost and use them in the calculation."
   ]
  },
  {
   "cell_type": "code",
   "execution_count": 37,
   "metadata": {},
   "outputs": [
    {
     "name": "stdout",
     "output_type": "stream",
     "text": [
      "Hans should pay $ 10 for 5 pounds of bananas.\n"
     ]
    }
   ],
   "source": [
    "# YOUR CODE IS HERE\n",
    "banana_cost = 2\n",
    "banana_pound = 5\n",
    "total_cost = banana_cost*banana_pound\n",
    "print(\"Hans should pay $\", total_cost, \"for 5 pounds of bananas.\")"
   ]
  },
  {
   "cell_type": "code",
   "execution_count": 33,
   "metadata": {},
   "outputs": [
    {
     "name": "stdout",
     "output_type": "stream",
     "text": [
      "Hans should pay $ 10 for 5 pounds of bananas.\n"
     ]
    }
   ],
   "source": [
    "# YOUR CODE IS HERE\n",
    "banana_cost = 2\n",
    "total_cost = banana_cost*5\n",
    "print(\"Hans should pay $\", total_cost, \"for 5 pounds of bananas.\")\n"
   ]
  },
  {
   "cell_type": "code",
   "execution_count": 35,
   "metadata": {},
   "outputs": [
    {
     "name": "stdout",
     "output_type": "stream",
     "text": [
      "Hans should pay $10 for 5 pounds of bananas.\n"
     ]
    }
   ],
   "source": [
    "print(\"Hans should pay $\" + str(total_cost) + \" for 5 pounds of bananas.\")  #java style"
   ]
  },
  {
   "cell_type": "code",
   "execution_count": 36,
   "metadata": {},
   "outputs": [
    {
     "name": "stdout",
     "output_type": "stream",
     "text": [
      "Hans should pay $10 for 5 pounds of bananas.\n"
     ]
    }
   ],
   "source": [
    "print(f\"Hans should pay ${total_cost} for 5 pounds of bananas.\")  # f-string"
   ]
  },
  {
   "attachments": {},
   "cell_type": "markdown",
   "metadata": {},
   "source": [
    "### 16. The mathematical notation allows the multiplication of x and y as follows: xy \n",
    "### What happens if you try this in Python? "
   ]
  },
  {
   "cell_type": "code",
   "execution_count": 39,
   "metadata": {},
   "outputs": [
    {
     "name": "stdout",
     "output_type": "stream",
     "text": [
      "30\n"
     ]
    }
   ],
   "source": [
    "# YOUR CODE IS HERE\n",
    "x = 6\n",
    "y = 5\n",
    "print(x*y)"
   ]
  },
  {
   "attachments": {},
   "cell_type": "markdown",
   "metadata": {},
   "source": [
    "### 17. Suppose the retail price of a book is 24.95 Euro. Booksellers receive a 40 percent discount. The shipping costs are 3 euros for the first book and 75 cents for each additional book. What is the total retail price for 60 books?"
   ]
  },
  {
   "cell_type": "code",
   "execution_count": 40,
   "metadata": {},
   "outputs": [
    {
     "name": "stdout",
     "output_type": "stream",
     "text": [
      "Total price..:  945.4499999999999\n"
     ]
    }
   ],
   "source": [
    "# YOUR CODE IS HERE\n",
    "book_price = 24.95\n",
    "book_discount = book_price - book_price*0.40  # book_discount =book_price*0.60\n",
    "book_count = 60                               # ship_cost = 3 + 59 *0.75\n",
    "ship_cost = 3 + (book_count-1)*0.75\n",
    "total_price = ship_cost + book_discount * book_count\n",
    "print(\"Total price..: \", total_price)\n"
   ]
  },
  {
   "attachments": {},
   "cell_type": "markdown",
   "metadata": {},
   "source": [
    "### 18. Let’s print the text below using .format() method only for numerical text. Create variables for numerical values each.  Take the numerical values from variables.\n",
    "Text :\n",
    "“If we had bought $2000 crypto coins at the weekend, we would have had $4,152.32 with a profit share of 11% after 5 days.”\n",
    "\"\"\""
   ]
  },
  {
   "cell_type": "code",
   "execution_count": 44,
   "metadata": {},
   "outputs": [
    {
     "name": "stdout",
     "output_type": "stream",
     "text": [
      "If we had bought $2000 crypto coins at the weekend, we would have had $4,152.32 with a profit share of 11% after 5 days.\n"
     ]
    }
   ],
   "source": [
    "# YOUR CODE IS HERE\n",
    "coin = 2000\n",
    "profit = \"4,152.32\"\n",
    "percent = 11\n",
    "day = 5\n",
    "print(\"If we had bought $\"+ str(coin) + \" crypto coins at the weekend, we would have had $\"+str(profit)+ \" with a profit share of \" \\\n",
    "     + str(percent) +\"% after \" + str(day) + \" days.\")"
   ]
  },
  {
   "cell_type": "code",
   "execution_count": 50,
   "metadata": {},
   "outputs": [
    {
     "name": "stdout",
     "output_type": "stream",
     "text": [
      "If we had bought $2000 crypto coins at the weekend, we would have had $4,152.32 with a profit share of 11% after5 days.\n"
     ]
    }
   ],
   "source": [
    "# YOUR CODE IS HERE\n",
    "coin = 2000\n",
    "profit = 4152.32\n",
    "percent = 11\n",
    "day = 5\n",
    "print(f\"If we had bought ${coin} crypto coins at the weekend, we would have had ${profit:,} with a profit share of {percent}% after{day} days.\")"
   ]
  },
  {
   "cell_type": "code",
   "execution_count": 51,
   "metadata": {},
   "outputs": [
    {
     "name": "stdout",
     "output_type": "stream",
     "text": [
      "If we had bought $2000 crypto coins at the weekend, we would have had $4152.32 with a profit share of 11% after5 days.\n"
     ]
    }
   ],
   "source": [
    "# YOUR CODE IS HERE\n",
    "coin = 2000\n",
    "profit = 4152.32\n",
    "percent = 11\n",
    "day = 5\n",
    "print(\"If we had bought ${0} crypto coins at the weekend, we would have had ${1} with a profit share of {2}% after{3} days.\".format(coin, profit,percent,day))"
   ]
  },
  {
   "cell_type": "markdown",
   "metadata": {},
   "source": [
    "<p style=\"text-align: center;\"><img src=\"https://docs.google.com/uc?id=1lY0Uj5R04yMY3-ZppPWxqCr5pvBLYPnV\" class=\"img-fluid\" \n",
    "alt=\"CLRSWY\"></p>\n",
    "\n",
    "## <p style=\"background-color:#FDFEFE; font-family:newtimeroman; color:#9d4f8c; font-size:100%; text-align:center; border-radius:10px 10px;\">WAY TO REINVENT YOURSELF</p>\n",
    "\n",
    "________"
   ]
  }
 ],
 "metadata": {
  "anaconda-cloud": {},
  "colab": {
   "name": "Copy of Assignment-1-Solutions.ipynb",
   "provenance": []
  },
  "kernelspec": {
   "display_name": "Python 3",
   "language": "python",
   "name": "python3"
  },
  "language_info": {
   "codemirror_mode": {
    "name": "ipython",
    "version": 3
   },
   "file_extension": ".py",
   "mimetype": "text/x-python",
   "name": "python",
   "nbconvert_exporter": "python",
   "pygments_lexer": "ipython3",
   "version": "3.11.1 (tags/v3.11.1:a7a450f, Dec  6 2022, 19:58:39) [MSC v.1934 64 bit (AMD64)]"
  },
  "toc": {
   "base_numbering": 1,
   "nav_menu": {},
   "number_sections": false,
   "sideBar": true,
   "skip_h1_title": false,
   "title_cell": "Table of Contents",
   "title_sidebar": "Contents",
   "toc_cell": false,
   "toc_position": {},
   "toc_section_display": true,
   "toc_window_display": false
  },
  "vscode": {
   "interpreter": {
    "hash": "ec7e8c5f221ede34fcb59adf6ebad19b5fdf6bcf45ce6f5542b63bd5586000b8"
   }
  }
 },
 "nbformat": 4,
 "nbformat_minor": 1
}
